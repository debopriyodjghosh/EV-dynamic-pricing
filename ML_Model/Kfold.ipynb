{
 "cells": [
  {
   "cell_type": "code",
   "execution_count": 68,
   "id": "4ea242c3",
   "metadata": {},
   "outputs": [],
   "source": [
    "import pandas as pd\n",
    "#importing Random forest\n",
    "from sklearn.ensemble import RandomForestRegressor\n",
    "from datetime import datetime\n",
    "import pickle\n",
    "from sklearn.model_selection import train_test_split\n",
    "from sklearn.model_selection import KFold,RepeatedKFold\n",
    "from sklearn.model_selection import cross_val_score\n",
    "from sklearn.linear_model import LinearRegression\n",
    "from numpy import mean\n",
    "from numpy import absolute\n",
    "from numpy import sqrt\n",
    "import pandas as pd"
   ]
  },
  {
   "cell_type": "code",
   "execution_count": 69,
   "id": "d20bd571",
   "metadata": {},
   "outputs": [],
   "source": [
    "# get date\n",
    "def get_dom(dt):\n",
    "\treturn dt.day\n",
    "\n",
    "# get week day\n",
    "def get_weekday(dt):\n",
    "\treturn dt.weekday()\n",
    "\n",
    "# get hour\n",
    "def get_hour(dt):\n",
    "\treturn dt.hour\n",
    "\n",
    "# get year\n",
    "def get_year(dt):\n",
    "\treturn dt.year\n",
    "\n",
    "# get month\n",
    "def get_month(dt):\n",
    "\treturn dt.month\n",
    "\n",
    "# get year day\n",
    "def get_dayofyear(dt):\n",
    "\treturn dt.dayofyear\n",
    "\n",
    "# get year week\n",
    "def get_weekofyear(dt):\n",
    "\treturn dt.weekofyear"
   ]
  },
  {
   "cell_type": "code",
   "execution_count": 90,
   "id": "2a34374b",
   "metadata": {},
   "outputs": [],
   "source": [
    "file=\"JUN 2 16.csv\"\n",
    "train = pd.read_csv(file)\n",
    "train = train.drop(['Junction'],axis=1)\n",
    "train = train.drop(['ID'],axis=1)\n",
    "# function to get all data from time stamp\n",
    "train['DateTime'] = train['DateTime'].map(pd.to_datetime)\n",
    "train['date'] = train['DateTime'].map(get_dom)\n",
    "train['weekday'] = train['DateTime'].map(get_weekday)\n",
    "train['hour'] = train['DateTime'].map(get_hour)\n",
    "train['month'] = train['DateTime'].map(get_month)\n",
    "train['year'] = train['DateTime'].map(get_year)\n",
    "train['dayofyear'] = train['DateTime'].map(get_dayofyear)\n",
    "train['weekofyear'] = train['DateTime'].map(get_weekofyear)\n",
    "# display\n",
    "train = train.drop(['DateTime'], axis=1)\n",
    "# separating class label for training the data\n",
    "train1 = train.drop(['Vehicles'], axis=1)\n",
    "# class label is stored in target\n",
    "target = train['Vehicles']\n",
    "train1 = train1.drop(['year'],axis =1)\n",
    "#cv = KFold(n_splits=30, random_state=1, shuffle=True,)\n",
    "cv=RepeatedKFold(n_splits=30, n_repeats=3, random_state=1)\n",
    "m1=RandomForestRegressor()\n",
    "scores = cross_val_score(m1, train1, target, scoring='r2',\n",
    "                     cv=cv, n_jobs=-1)\n",
    "    "
   ]
  },
  {
   "cell_type": "code",
   "execution_count": 91,
   "id": "c76502f2",
   "metadata": {},
   "outputs": [
    {
     "data": {
      "text/plain": [
       "0.8916765375375407"
      ]
     },
     "execution_count": 91,
     "metadata": {},
     "output_type": "execute_result"
    }
   ],
   "source": [
    "mean(absolute(scores))"
   ]
  },
  {
   "cell_type": "code",
   "execution_count": 47,
   "id": "4fdf3c45",
   "metadata": {},
   "outputs": [],
   "source": [
    "    "
   ]
  },
  {
   "cell_type": "code",
   "execution_count": 48,
   "id": "807a801a",
   "metadata": {},
   "outputs": [],
   "source": [
    "    "
   ]
  },
  {
   "cell_type": "code",
   "execution_count": 49,
   "id": "6db75679",
   "metadata": {},
   "outputs": [
    {
     "data": {
      "text/plain": [
       "1.8457985645426134"
      ]
     },
     "execution_count": 49,
     "metadata": {},
     "output_type": "execute_result"
    }
   ],
   "source": []
  },
  {
   "cell_type": "code",
   "execution_count": null,
   "id": "3450f0e1",
   "metadata": {},
   "outputs": [],
   "source": []
  }
 ],
 "metadata": {
  "kernelspec": {
   "display_name": "Python 3 (ipykernel)",
   "language": "python",
   "name": "python3"
  },
  "language_info": {
   "codemirror_mode": {
    "name": "ipython",
    "version": 3
   },
   "file_extension": ".py",
   "mimetype": "text/x-python",
   "name": "python",
   "nbconvert_exporter": "python",
   "pygments_lexer": "ipython3",
   "version": "3.10.1"
  }
 },
 "nbformat": 4,
 "nbformat_minor": 5
}
