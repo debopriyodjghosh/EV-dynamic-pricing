{
 "cells": [
  {
   "cell_type": "code",
   "execution_count": 17,
   "id": "c933fbd9",
   "metadata": {},
   "outputs": [],
   "source": [
    "import pickle\n",
    "model=[]\n",
    "for i in range(1,11):\n",
    "    file='C://xampp//htdocs//vehicle//'+'JunModel'+str(i)+'.pkl'\n",
    "    m1=pickle.load(open(file,'rb'))\n",
    "    model.append(m1)"
   ]
  },
  {
   "cell_type": "code",
   "execution_count": 18,
   "id": "957c2fc3",
   "metadata": {},
   "outputs": [
    {
     "data": {
      "text/plain": [
       "array([15.39])"
      ]
     },
     "execution_count": 18,
     "metadata": {},
     "output_type": "execute_result"
    }
   ],
   "source": [
    "model[1].predict([[1,4,0,1,1,53]])\n"
   ]
  },
  {
   "cell_type": "code",
   "execution_count": null,
   "id": "9a63bec0",
   "metadata": {},
   "outputs": [],
   "source": []
  }
 ],
 "metadata": {
  "kernelspec": {
   "display_name": "Python 3 (ipykernel)",
   "language": "python",
   "name": "python3"
  },
  "language_info": {
   "codemirror_mode": {
    "name": "ipython",
    "version": 3
   },
   "file_extension": ".py",
   "mimetype": "text/x-python",
   "name": "python",
   "nbconvert_exporter": "python",
   "pygments_lexer": "ipython3",
   "version": "3.10.1"
  }
 },
 "nbformat": 4,
 "nbformat_minor": 5
}
