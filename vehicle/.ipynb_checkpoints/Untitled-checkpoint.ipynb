{
 "cells": [
  {
   "cell_type": "code",
   "execution_count": 53,
   "id": "bdb2c4d5",
   "metadata": {},
   "outputs": [
    {
     "name": "stdout",
     "output_type": "stream",
     "text": [
      "12\n",
      "5\n",
      "20\n",
      "3\n",
      "2022\n",
      "71\n",
      "10\n"
     ]
    }
   ],
   "source": [
    "from datetime import *\n",
    "dt = datetime.now()\n",
    "#print(dt.date())\n",
    "#print(dt.time())\n",
    "\n",
    "# print(dt.day)\n",
    "# print(dt.weekday())\n",
    "# print(dt.hour)\n",
    "# print(dt.month)\n",
    "# print(dt.year)\n",
    "# #dayofyear\n",
    "# print(datetime.now().timetuple().tm_yday)\n",
    "# #weekofyear\n",
    "# print(datetime.utcnow().isocalendar()[1])\n",
    "\n",
    "arr=np.array([[dt.day,dt.weekday(),dt.hour,dt.month,dt.year,datetime.now().timetuple().tm_yday,datetime.utcnow().isocalendar()[1]]])\n",
    "print(arr)\n",
    "\n",
    "\n",
    "\n",
    "\n",
    " "
   ]
  },
  {
   "cell_type": "code",
   "execution_count": null,
   "id": "0e8695c4",
   "metadata": {},
   "outputs": [],
   "source": []
  }
 ],
 "metadata": {
  "kernelspec": {
   "display_name": "Python 3 (ipykernel)",
   "language": "python",
   "name": "python3"
  },
  "language_info": {
   "codemirror_mode": {
    "name": "ipython",
    "version": 3
   },
   "file_extension": ".py",
   "mimetype": "text/x-python",
   "name": "python",
   "nbconvert_exporter": "python",
   "pygments_lexer": "ipython3",
   "version": "3.10.1"
  }
 },
 "nbformat": 4,
 "nbformat_minor": 5
}
